{
 "metadata": {
  "name": ""
 },
 "nbformat": 3,
 "nbformat_minor": 0,
 "worksheets": [
  {
   "cells": [
    {
     "cell_type": "heading",
     "level": 1,
     "metadata": {},
     "source": [
      "Spread within variables"
     ]
    },
    {
     "cell_type": "code",
     "collapsed": false,
     "input": [
      "import pandas as pd\n",
      "import numpy as np\n",
      "import matplotlib.pyplot as plt\n",
      "%pylab inline\n",
      "pd.__version__ # need 0.14.0 for multiindex slicing"
     ],
     "language": "python",
     "metadata": {},
     "outputs": [
      {
       "output_type": "stream",
       "stream": "stdout",
       "text": [
        "Populating the interactive namespace from numpy and matplotlib\n"
       ]
      },
      {
       "metadata": {},
       "output_type": "pyout",
       "prompt_number": 2,
       "text": [
        "'0.14.1'"
       ]
      }
     ],
     "prompt_number": 2
    },
    {
     "cell_type": "heading",
     "level": 2,
     "metadata": {},
     "source": [
      "Read files"
     ]
    },
    {
     "cell_type": "code",
     "collapsed": false,
     "input": [
      "o = pd.read_table(\"overall_statistics_ksmall.txt\").set_index([\"K\",\"M\",\"STATISTIC\"])[\"VALUE\"].unstack().loc[(10,200),:]\n",
      "v = pd.read_table(\"variable_statistics_ksmall.txt\").set_index([\"K\",\"M\",\"STATISTIC\",\"VARIABLE\"])[\"VALUE\"].unstack().unstack().loc[(10,200),:].unstack()"
     ],
     "language": "python",
     "metadata": {},
     "outputs": [],
     "prompt_number": 3
    },
    {
     "cell_type": "code",
     "collapsed": false,
     "input": [
      "statistics_of_interest = [\"rms_error\",\"max_error\",\"precisionbits\",\"srr\",\"correlation\"]"
     ],
     "language": "python",
     "metadata": {},
     "outputs": [],
     "prompt_number": 4
    },
    {
     "cell_type": "heading",
     "level": 2,
     "metadata": {},
     "source": [
      "Load variable information"
     ]
    },
    {
     "cell_type": "code",
     "collapsed": false,
     "input": [
      "# load variable information for joining levels to variables\n",
      "v_info = pd.read_table(\"variable_information.txt\").set_index([\"VARIABLE\",\"INFO\"]).unstack().loc[:,\"VALUE\"]\n",
      "v_info[\"levels\"] = v_info[\"levels\"].astype(\"int\")\n",
      "v_info.columns.name = \"\""
     ],
     "language": "python",
     "metadata": {},
     "outputs": [],
     "prompt_number": 5
    },
    {
     "cell_type": "heading",
     "level": 2,
     "metadata": {},
     "source": [
      "Sort by RMS error"
     ]
    },
    {
     "cell_type": "code",
     "collapsed": false,
     "input": [
      "v.sort(\"rms_error\")[[\"rms_error\",\"max_error\",\"precisionbits\",\"srr\"]].join(v_info[\"name\"]).tail(5)"
     ],
     "language": "python",
     "metadata": {},
     "outputs": [
      {
       "html": [
        "<div style=\"max-height:1000px;max-width:1500px;overflow:auto;\">\n",
        "<table border=\"1\" class=\"dataframe\">\n",
        "  <thead>\n",
        "    <tr style=\"text-align: right;\">\n",
        "      <th></th>\n",
        "      <th>rms_error</th>\n",
        "      <th>max_error</th>\n",
        "      <th>precisionbits</th>\n",
        "      <th>srr</th>\n",
        "      <th>name</th>\n",
        "    </tr>\n",
        "    <tr>\n",
        "      <th>VARIABLE</th>\n",
        "      <th></th>\n",
        "      <th></th>\n",
        "      <th></th>\n",
        "      <th></th>\n",
        "      <th></th>\n",
        "    </tr>\n",
        "  </thead>\n",
        "  <tbody>\n",
        "    <tr>\n",
        "      <th>FREQS</th>\n",
        "      <td> 0.002167</td>\n",
        "      <td> 0.051397</td>\n",
        "      <td> 3.28217</td>\n",
        "      <td> 6.26081</td>\n",
        "      <td>          Fractional occurance of snow</td>\n",
        "    </tr>\n",
        "    <tr>\n",
        "      <th>FREQZM</th>\n",
        "      <td> 0.002256</td>\n",
        "      <td> 0.022684</td>\n",
        "      <td> 4.46221</td>\n",
        "      <td> 6.60402</td>\n",
        "      <td> Fractional occurance of ZM convection</td>\n",
        "    </tr>\n",
        "    <tr>\n",
        "      <th>PSL</th>\n",
        "      <td> 0.002299</td>\n",
        "      <td> 0.024323</td>\n",
        "      <td> 4.36156</td>\n",
        "      <td> 6.29992</td>\n",
        "      <td>                    Sea level pressure</td>\n",
        "    </tr>\n",
        "    <tr>\n",
        "      <th>CLDMED</th>\n",
        "      <td> 0.002491</td>\n",
        "      <td> 0.030366</td>\n",
        "      <td> 4.04140</td>\n",
        "      <td> 6.07505</td>\n",
        "      <td> Vertically-integrated mid-level cloud</td>\n",
        "    </tr>\n",
        "    <tr>\n",
        "      <th>SSTSFMBL</th>\n",
        "      <td> 0.002599</td>\n",
        "      <td> 0.062668</td>\n",
        "      <td> 2.99611</td>\n",
        "      <td> 6.28976</td>\n",
        "      <td>          Mobilization flux at surface</td>\n",
        "    </tr>\n",
        "  </tbody>\n",
        "</table>\n",
        "</div>"
       ],
       "metadata": {},
       "output_type": "pyout",
       "prompt_number": 8,
       "text": [
        "          rms_error  max_error  precisionbits      srr  \\\n",
        "VARIABLE                                                 \n",
        "FREQS      0.002167   0.051397        3.28217  6.26081   \n",
        "FREQZM     0.002256   0.022684        4.46221  6.60402   \n",
        "PSL        0.002299   0.024323        4.36156  6.29992   \n",
        "CLDMED     0.002491   0.030366        4.04140  6.07505   \n",
        "SSTSFMBL   0.002599   0.062668        2.99611  6.28976   \n",
        "\n",
        "                                           name  \n",
        "VARIABLE                                         \n",
        "FREQS              Fractional occurance of snow  \n",
        "FREQZM    Fractional occurance of ZM convection  \n",
        "PSL                          Sea level pressure  \n",
        "CLDMED    Vertically-integrated mid-level cloud  \n",
        "SSTSFMBL           Mobilization flux at surface  "
       ]
      }
     ],
     "prompt_number": 8
    },
    {
     "cell_type": "code",
     "collapsed": false,
     "input": [
      "v.sort(\"rms_error\")[statistics_of_interest].join(v_info).tail(10)"
     ],
     "language": "python",
     "metadata": {},
     "outputs": []
    },
    {
     "cell_type": "heading",
     "level": 2,
     "metadata": {},
     "source": [
      "Sort by maximum error"
     ]
    },
    {
     "cell_type": "code",
     "collapsed": false,
     "input": [
      "v.sort(\"max_error\")[statistics_of_interest].join(v_info).head(10)"
     ],
     "language": "python",
     "metadata": {},
     "outputs": []
    },
    {
     "cell_type": "code",
     "collapsed": false,
     "input": [
      "v.sort(\"max_error\")[statistics_of_interest].join(v_info).tail(10)"
     ],
     "language": "python",
     "metadata": {},
     "outputs": []
    },
    {
     "cell_type": "heading",
     "level": 2,
     "metadata": {},
     "source": [
      "Ratio maximum error / RMS error"
     ]
    },
    {
     "cell_type": "code",
     "collapsed": false,
     "input": [
      "v[\"error_ratio\"] = v.max_error / v.rms_error\n",
      "er = v.loc(axis=1)[(\"error_ratio\",)].sort(\"error_ratio\")\n",
      "(er.mean(), er.median(),er.head(5),er.tail(5))"
     ],
     "language": "python",
     "metadata": {},
     "outputs": []
    },
    {
     "cell_type": "code",
     "collapsed": false,
     "input": [
      "v.loc[[\"U\",\"FSDSC\",\"Z3\",\"CCN3\"],[\"max_error\",\"rms_error\"]].T"
     ],
     "language": "python",
     "metadata": {},
     "outputs": []
    }
   ],
   "metadata": {}
  }
 ]
}