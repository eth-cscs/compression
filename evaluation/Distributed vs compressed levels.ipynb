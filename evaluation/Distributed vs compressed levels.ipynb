{
 "metadata": {
  "name": ""
 },
 "nbformat": 3,
 "nbformat_minor": 0,
 "worksheets": [
  {
   "cells": [
    {
     "cell_type": "heading",
     "level": 1,
     "metadata": {},
     "source": [
      "Comparison of distributing or compressing levels"
     ]
    },
    {
     "cell_type": "code",
     "collapsed": false,
     "input": [
      "import pandas as pd\n",
      "import numpy as np\n",
      "import matplotlib.pyplot as plt\n",
      "#%pylab inline\n",
      "pd.__version__ # need 0.14.0 for multiindex slicing"
     ],
     "language": "python",
     "metadata": {},
     "outputs": [
      {
       "metadata": {},
       "output_type": "pyout",
       "prompt_number": 1,
       "text": [
        "'0.14.1'"
       ]
      }
     ],
     "prompt_number": 1
    },
    {
     "cell_type": "heading",
     "level": 2,
     "metadata": {},
     "source": [
      "Read files"
     ]
    },
    {
     "cell_type": "code",
     "collapsed": false,
     "input": [
      "oc = pd.read_table(\"overall_statistics_3d.txt\").set_index([\"K\",\"M\",\"STATISTIC\"])[\"VALUE\"].unstack()\n",
      "vc = pd.read_table(\"variable_statistics_3d.txt\").set_index([\"K\",\"M\",\"STATISTIC\",\"VARIABLE\"])[\"VALUE\"].unstack().unstack()"
     ],
     "language": "python",
     "metadata": {},
     "outputs": [],
     "prompt_number": 2
    },
    {
     "cell_type": "code",
     "collapsed": false,
     "input": [
      "od = pd.read_table(\"overall_statistics_alldistributed_3d.txt\").set_index([\"K\",\"M\",\"STATISTIC\"])[\"VALUE\"].unstack()\n",
      "vd = pd.read_table(\"variable_statistics_alldistributed_3d.txt\").set_index([\"K\",\"M\",\"STATISTIC\",\"VARIABLE\"])[\"VALUE\"].unstack().unstack()"
     ],
     "language": "python",
     "metadata": {},
     "outputs": [],
     "prompt_number": 3
    },
    {
     "cell_type": "heading",
     "level": 2,
     "metadata": {},
     "source": [
      "Add fixed compression ratios"
     ]
    },
    {
     "cell_type": "code",
     "collapsed": false,
     "input": [
      "N_c = 88*30 # for 3D variables, vertical stacking\n",
      "N_d = 48602 # for all variables, vertical stacking\n",
      "original_size = N_c * N_d\n",
      "compressed_size = lambda K, M: N_d + N_c * K + N_d * M + N_c * K * M\n",
      "oc[\"compression_ratio_fixed\"] = compressed_size(np.array(oc.index.get_level_values(\"K\")),np.array(oc.index.get_level_values(\"M\"))) / original_size\n",
      "#oc.loc[:,\"compression_ratio_fixed\"].unstack(\"K\")"
     ],
     "language": "python",
     "metadata": {},
     "outputs": [],
     "prompt_number": 4
    },
    {
     "cell_type": "code",
     "collapsed": false,
     "input": [
      "N_c = 88       # for 3D variables, vertical stacking (ncol & lev distributed)\n",
      "N_d = 30*48602 # for 3D variables, vertical stacking (ncol & lev distributed)\n",
      "original_size = N_c * N_d\n",
      "compressed_size = lambda K, M: N_d + N_c * K + N_d * M + N_c * K * M\n",
      "od[\"compression_ratio_fixed\"] = compressed_size(np.array(od.index.get_level_values(\"K\")),np.array(od.index.get_level_values(\"M\"))) / original_size\n",
      "#od.loc[:,\"compression_ratio_fixed\"].unstack(\"K\")"
     ],
     "language": "python",
     "metadata": {},
     "outputs": [],
     "prompt_number": 5
    },
    {
     "cell_type": "heading",
     "level": 2,
     "metadata": {},
     "source": [
      "Compare errors and compression ratio"
     ]
    },
    {
     "cell_type": "code",
     "collapsed": false,
     "input": [
      "# error vs compression ratio, one line per K\n",
      "grouped_c = vc.loc(axis=0)[6:10,:].mean(axis=1,level=\"STATISTIC\").join(oc).reset_index().groupby(\"K\")\n",
      "grouped_d = vd.loc(axis=0)[6:10,:].mean(axis=1,level=\"STATISTIC\").join(od).reset_index().groupby(\"K\")\n",
      "for key,grp in grouped_c:\n",
      "    plt.plot(grp[\"compression_ratio_fixed\"],grp[\"rms_error\"],\"-\", label=\"K = \" + str(key) + \" (comp.)\")\n",
      "for key,grp in grouped_d:\n",
      "    plt.plot(grp[\"compression_ratio_fixed\"],grp[\"rms_error\"],\":\", label=\"K = \" + str(key) + \" (dist.)\")\n",
      "plt.legend()\n",
      "plt.xlabel(\"compression ratio\")\n",
      "plt.ylabel(\"mean rms error\")\n",
      "plt.show()\n",
      "#plt.title(\"error vs compression ratio, by K\")\n",
      "#plt.xlim((0.08,0.11))\n",
      "#plt.ylim((0.001,0.002))"
     ],
     "language": "python",
     "metadata": {},
     "outputs": [],
     "prompt_number": 9
    },
    {
     "cell_type": "code",
     "collapsed": false,
     "input": [
      "for key,grp in grouped_c:\n",
      "    plt.plot(grp[\"compression_ratio_fixed\"],grp[\"L_final\"],\"-\", label=\"K = \" + str(key) + \" (comp.)\")\n",
      "for key,grp in grouped_d:\n",
      "    plt.plot(grp[\"compression_ratio_fixed\"],grp[\"L_final\"],\":\", label=\"K = \" + str(key) + \" (dist.)\")\n",
      "plt.legend()\n",
      "plt.xlabel(\"compression ratio\")\n",
      "plt.ylabel(\"mean rms error\")\n",
      "#plt.title(\"error vs compression ratio, by K\")\n",
      "#plt.xlim((0.08,0.11))\n",
      "#plt.ylim((0.001,0.002))"
     ],
     "language": "python",
     "metadata": {},
     "outputs": [
      {
       "metadata": {},
       "output_type": "pyout",
       "prompt_number": 7,
       "text": [
        "<matplotlib.text.Text at 0x7f40479aed68>"
       ]
      }
     ],
     "prompt_number": 7
    }
   ],
   "metadata": {}
  }
 ]
}